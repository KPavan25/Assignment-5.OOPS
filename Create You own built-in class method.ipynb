{
 "cells": [
  {
   "cell_type": "code",
   "execution_count": 4,
   "id": "07f58ee1",
   "metadata": {},
   "outputs": [
    {
     "name": "stdout",
     "output_type": "stream",
     "text": [
      "enter the number :10\n",
      "enter the power of that number :2\n",
      "the value of 10 power of 2 is  100\n"
     ]
    }
   ],
   "source": [
    "'''Use should be able to find the nth power of the x.(i.e x*x*x*x...n times)\n",
    "You must implement it using Class\n",
    "Sample Input:\n",
    "x: 10\n",
    "n: 2\n",
    "Sample Output:\n",
    "100'''\n",
    "\n",
    "class impo:\n",
    "    def __init__(self,x,n):\n",
    "        self.x=x\n",
    "        self.y=n\n",
    "        self.result=1\n",
    "    \n",
    "    def power(self):\n",
    "        \n",
    "        while (self.y > 0):\n",
    "            if (self.y % 2 == 0):\n",
    "                self.x = self.x * self.x\n",
    "                self.y = self.y / 2\n",
    "            else:\n",
    "                self.result = self.result * self.x\n",
    "                self.y = self.y - 1\n",
    "        return self.result\n",
    "a=int(input(\"enter the number :\"))\n",
    "p=int(input(\"enter the power of that number :\"))\n",
    "j=imp(a,p)\n",
    "print(f\"the value of {a} power of {p} is \",j.power())"
   ]
  },
  {
   "cell_type": "code",
   "execution_count": null,
   "id": "cce8852b",
   "metadata": {},
   "outputs": [],
   "source": []
  },
  {
   "cell_type": "code",
   "execution_count": null,
   "id": "713ab954",
   "metadata": {},
   "outputs": [],
   "source": []
  }
 ],
 "metadata": {
  "kernelspec": {
   "display_name": "Python 3 (ipykernel)",
   "language": "python",
   "name": "python3"
  },
  "language_info": {
   "codemirror_mode": {
    "name": "ipython",
    "version": 3
   },
   "file_extension": ".py",
   "mimetype": "text/x-python",
   "name": "python",
   "nbconvert_exporter": "python",
   "pygments_lexer": "ipython3",
   "version": "3.9.12"
  }
 },
 "nbformat": 4,
 "nbformat_minor": 5
}
